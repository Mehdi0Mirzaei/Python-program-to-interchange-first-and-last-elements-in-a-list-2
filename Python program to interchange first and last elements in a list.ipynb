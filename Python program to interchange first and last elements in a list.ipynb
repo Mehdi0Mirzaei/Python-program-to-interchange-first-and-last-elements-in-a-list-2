{
 "cells": [
  {
   "cell_type": "code",
   "execution_count": 9,
   "id": "355218f3",
   "metadata": {},
   "outputs": [
    {
     "name": "stdout",
     "output_type": "stream",
     "text": [
      "[5, 2, 3, 4, 1]\n"
     ]
    }
   ],
   "source": [
    "#initializing list\n",
    "test_list=[1,2,3,4,5]\n",
    "size=len(test_list)\n",
    "temp=test_list[0]\n",
    "test_list[0]=test_list[size-1]\n",
    "test_list[size-1]=temp\n",
    "\n",
    "print(test_list)"
   ]
  },
  {
   "cell_type": "code",
   "execution_count": 10,
   "id": "621dd59d",
   "metadata": {},
   "outputs": [],
   "source": [
    "def swapfl(lst):\n",
    "    size=len(lst)\n",
    "    temp=lst[0]\n",
    "    lst[0]=lst[size-1]\n",
    "    lst[size-1]=temp\n",
    "    return lst"
   ]
  },
  {
   "cell_type": "code",
   "execution_count": 11,
   "id": "08498bb2",
   "metadata": {},
   "outputs": [
    {
     "data": {
      "text/plain": [
       "[10, 7, 8, 9, 6]"
      ]
     },
     "execution_count": 11,
     "metadata": {},
     "output_type": "execute_result"
    }
   ],
   "source": [
    "swapfl([6,7,8,9,10])"
   ]
  },
  {
   "cell_type": "code",
   "execution_count": 12,
   "id": "e82f2a0b",
   "metadata": {},
   "outputs": [],
   "source": [
    "def swap2(lst):\n",
    "    lst[0],lst[-1]=lst[-1],lst[0]\n",
    "    return lst"
   ]
  },
  {
   "cell_type": "code",
   "execution_count": 13,
   "id": "a17df44f",
   "metadata": {},
   "outputs": [
    {
     "data": {
      "text/plain": [
       "[10, 4, 6, 8, 2]"
      ]
     },
     "execution_count": 13,
     "metadata": {},
     "output_type": "execute_result"
    }
   ],
   "source": [
    "swap2([2,4,6,8,10])"
   ]
  },
  {
   "cell_type": "code",
   "execution_count": 14,
   "id": "5ce1cf52",
   "metadata": {},
   "outputs": [],
   "source": [
    "def swap3(lst):\n",
    "    get=lst[0],lst[-1]\n",
    "    lst[-1],lst[0]=get\n",
    "    return lst"
   ]
  },
  {
   "cell_type": "code",
   "execution_count": 15,
   "id": "c8bfa91e",
   "metadata": {},
   "outputs": [
    {
     "data": {
      "text/plain": [
       "[9, 3, 5, 7, 1]"
      ]
     },
     "execution_count": 15,
     "metadata": {},
     "output_type": "execute_result"
    }
   ],
   "source": [
    "swap3([1,3,5,7,9])"
   ]
  },
  {
   "cell_type": "code",
   "execution_count": 16,
   "id": "c5d315ec",
   "metadata": {},
   "outputs": [],
   "source": [
    "def swap4(lst):\n",
    "    start,*middle,end=lst\n",
    "    lst=[end,*middle,start]\n",
    "    return lst"
   ]
  },
  {
   "cell_type": "code",
   "execution_count": 17,
   "id": "d085f1d9",
   "metadata": {},
   "outputs": [
    {
     "data": {
      "text/plain": [
       "[99, 23, 45, 67, 78, 90, 1]"
      ]
     },
     "execution_count": 17,
     "metadata": {},
     "output_type": "execute_result"
    }
   ],
   "source": [
    "swap4([1,23,45,67,78,90,99])"
   ]
  },
  {
   "cell_type": "code",
   "execution_count": 20,
   "id": "56dfc026",
   "metadata": {},
   "outputs": [],
   "source": [
    "def swap5(lst):\n",
    "    first=lst.pop(0)\n",
    "    last=lst.pop(-1)\n",
    "    lst.insert(0,last)\n",
    "    lst.append(first)\n",
    "    return lst"
   ]
  },
  {
   "cell_type": "code",
   "execution_count": 21,
   "id": "5cac1cf8",
   "metadata": {},
   "outputs": [
    {
     "data": {
      "text/plain": [
       "[99, 23, 45, 67, 78, 90, 1]"
      ]
     },
     "execution_count": 21,
     "metadata": {},
     "output_type": "execute_result"
    }
   ],
   "source": [
    "swap5([1,23,45,67,78,90,99])"
   ]
  },
  {
   "cell_type": "code",
   "execution_count": 22,
   "id": "e79989b0",
   "metadata": {},
   "outputs": [],
   "source": [
    "def swap_first_last_lst(lst):\n",
    "    if len(lst)>=2:\n",
    "        lst=lst[-1:]+lst[1:-1]+lst[:1]\n",
    "    return lst"
   ]
  },
  {
   "cell_type": "code",
   "execution_count": 23,
   "id": "bd5f38ad",
   "metadata": {},
   "outputs": [
    {
     "data": {
      "text/plain": [
       "[99, 23, 45, 67, 78, 90, 1]"
      ]
     },
     "execution_count": 23,
     "metadata": {},
     "output_type": "execute_result"
    }
   ],
   "source": [
    "swap_first_last_lst([1,23,45,67,78,90,99])"
   ]
  },
  {
   "cell_type": "code",
   "execution_count": null,
   "id": "8c370989",
   "metadata": {},
   "outputs": [],
   "source": []
  }
 ],
 "metadata": {
  "kernelspec": {
   "display_name": "Python 3 (ipykernel)",
   "language": "python",
   "name": "python3"
  },
  "language_info": {
   "codemirror_mode": {
    "name": "ipython",
    "version": 3
   },
   "file_extension": ".py",
   "mimetype": "text/x-python",
   "name": "python",
   "nbconvert_exporter": "python",
   "pygments_lexer": "ipython3",
   "version": "3.9.13"
  }
 },
 "nbformat": 4,
 "nbformat_minor": 5
}
